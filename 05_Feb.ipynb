{
 "cells": [
  {
   "cell_type": "markdown",
   "id": "cb78ca1b-5d84-4d2b-8bae-78486bbaaa3f",
   "metadata": {},
   "source": [
    "## ans 1)"
   ]
  },
  {
   "cell_type": "code",
   "execution_count": 1,
   "id": "80bb26bf-2bcb-4265-87ca-9700f0068aa4",
   "metadata": {},
   "outputs": [],
   "source": [
    "# Class : a class is a blueprint or template that defines the structure and behavior of objects. It represents a concept or an entity and encapsulates the data (attributes) and operations (methods) that are associated with it. A class serves as a blueprint for creating objects, which are instances of that class.\n",
    "# Object: An object, on the other hand, is an instance of a class. It represents a specific occurrence or occurrence of the concept or entity defined by the class. Objects have their own unique state and behavior, but they share the characteristics defined by the class.\n",
    "\n",
    "#Example\n",
    "#(Class)\n",
    "class Car:\n",
    "    def __init__(self, make, model, color):\n",
    "        self.make = make\n",
    "        self.model = model\n",
    "        self.color = color\n",
    "\n",
    "    def accelerate(self):\n",
    "        print(\"The car is accelerating.\")\n",
    "\n",
    "    def brake(self):\n",
    "        print(\"The car is braking.\")\n",
    "\n",
    "    def change_gears(self, gear):\n",
    "        print(\"Changing gears to\", gear)\n",
    "        \n",
    "#(object)\n",
    "\n",
    "car1 = Car(\"Ford\", \"Mustang\", \"Red\")\n",
    "car2 = Car(\"Toyota\", \"Camry\", \"Blue\")\n"
   ]
  },
  {
   "cell_type": "markdown",
   "id": "ecd27835-8059-4d4b-82ba-cbc078a26efb",
   "metadata": {},
   "source": [
    "## Ans 2)"
   ]
  },
  {
   "cell_type": "code",
   "execution_count": 3,
   "id": "abeeda7f-fc8a-4c8b-a554-69f53f9a9ca6",
   "metadata": {},
   "outputs": [],
   "source": [
    "#1: Abstraction\n",
    "#2: Inheritance\n",
    "#3: polymorphism\n",
    "#4: Encapsulation\n"
   ]
  },
  {
   "cell_type": "markdown",
   "id": "50e5030c-ca57-410f-832b-b4b66e25a29f",
   "metadata": {},
   "source": [
    "## ans 3)"
   ]
  },
  {
   "cell_type": "code",
   "execution_count": 4,
   "id": "239c6163-f9ab-480a-a198-95c8f9a4de0f",
   "metadata": {},
   "outputs": [],
   "source": [
    "\n",
    "# The __init__() function is a special method in Python classes that is automatically called when an object is created from the class. It is used to initialize the object's attributes or perform any other setup operations that need to be done when the object is created."
   ]
  },
  {
   "cell_type": "markdown",
   "id": "fb25fd18-8a87-432a-b4a5-320a9a814108",
   "metadata": {},
   "source": [
    "## ans 4)"
   ]
  },
  {
   "cell_type": "code",
   "execution_count": null,
   "id": "1a06bfd5-b275-4ce4-b16b-a57d43448821",
   "metadata": {},
   "outputs": [],
   "source": [
    "# self is a conventional name used as the first parameter of instance methods within a class. It refers to the instance of the class itself and allows the methods to access and manipulate the attributes and methods of that particular instance."
   ]
  },
  {
   "cell_type": "markdown",
   "id": "5038312b-b278-4711-b6da-9a30fb486d24",
   "metadata": {},
   "source": [
    "## Ans 5)"
   ]
  },
  {
   "cell_type": "code",
   "execution_count": null,
   "id": "223e980a-779f-46a7-a696-73f4c7013e45",
   "metadata": {},
   "outputs": [],
   "source": [
    "# Inheritance is a fundamental concept in object-oriented programming (OOP) that allows a class to inherit attributes and methods from another class. It enables code reuse and supports the principle of \"is-a\" relationship, where a subclass is considered to be a specialized version of its superclass.\n",
    "# Types\n",
    "# 1 Single: In single inheritance, a subclass inherits from a single superclass. It forms a parent-child relationship, where the subclass inherits all the attributes and methods of the superclass.\n",
    "# 2 Multiple Multiple inheritance: it allows a subclass to inherit from multiple superclasses. The subclass inherits attributes and methods from all the superclasses, enabling it to combine and extend their functionality.\n",
    "# 3 Multilevel Multilevel: inheritance involves a chain of inheritance, where a subclass inherits from another subclass. It forms a hierarchical relationship, with each subclass inheriting attributes and methods from its immediate superclass.\n",
    "# 4 Hierarchical Inheritance: Hierarchical inheritance occurs when multiple subclasses inherit from the same superclass. Each subclass inherits the attributes and methods of the superclass independently, allowing for specialization."
   ]
  },
  {
   "cell_type": "code",
   "execution_count": null,
   "id": "2ad12388-4aab-43c7-853d-caa501dc0e56",
   "metadata": {},
   "outputs": [],
   "source": []
  }
 ],
 "metadata": {
  "kernelspec": {
   "display_name": "Python 3 (ipykernel)",
   "language": "python",
   "name": "python3"
  },
  "language_info": {
   "codemirror_mode": {
    "name": "ipython",
    "version": 3
   },
   "file_extension": ".py",
   "mimetype": "text/x-python",
   "name": "python",
   "nbconvert_exporter": "python",
   "pygments_lexer": "ipython3",
   "version": "3.10.8"
  }
 },
 "nbformat": 4,
 "nbformat_minor": 5
}
